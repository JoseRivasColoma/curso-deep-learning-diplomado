{
  "nbformat": 4,
  "nbformat_minor": 0,
  "metadata": {
    "colab": {
      "name": "Copia de RNN.ipynb",
      "provenance": [],
      "collapsed_sections": []
    },
    "kernelspec": {
      "name": "python3",
      "display_name": "Python 3"
    },
    "language_info": {
      "name": "python"
    }
  },
  "cells": [
    {
      "cell_type": "markdown",
      "source": [
        "Basado en : [Keras Documentación oficial](https://www.tensorflow.org/guide/keras/rnn)       "
      ],
      "metadata": {
        "id": "CzKXvphERFL_"
      }
    },
    {
      "cell_type": "markdown",
      "source": [
        "## Introduction\n",
        "\n",
        "Recurrent neural networks (RNN) are a class of neural networks that is powerful for\n",
        "modeling sequence data such as time series or natural language.\n",
        "\n",
        "Schematically, a RNN layer uses a `for` loop to iterate over the timesteps of a\n",
        "sequence, while maintaining an internal state that encodes information about the\n",
        "timesteps it has seen so far.\n",
        "\n",
        "The Keras RNN API is designed with a focus on:\n",
        "\n",
        "- **Ease of use**: the built-in `keras.layers.RNN`, `keras.layers.LSTM`,\n",
        "`keras.layers.GRU` layers enable you to quickly build recurrent models without\n",
        "having to make difficult configuration choices.\n",
        "\n",
        "- **Ease of customization**: You can also define your own RNN cell layer (the inner\n",
        "part of the `for` loop) with custom behavior, and use it with the generic\n",
        "`keras.layers.RNN` layer (the `for` loop itself). This allows you to quickly\n",
        "prototype different research ideas in a flexible way with minimal code."
      ],
      "metadata": {
        "id": "NLuNZYZsRSIy"
      }
    },
    {
      "cell_type": "code",
      "source": [
        "import numpy as np\n",
        "import tensorflow as tf\n",
        "from tensorflow import keras\n",
        "from tensorflow.keras import layers"
      ],
      "metadata": {
        "id": "fisJ9dKvRTBR"
      },
      "execution_count": null,
      "outputs": []
    },
    {
      "cell_type": "markdown",
      "source": [
        "## Built-in RNN layers: a simple example\n",
        "\n",
        "There are three built-in RNN layers in Keras:\n",
        "\n",
        "1. `keras.layers.SimpleRNN`, a fully-connected RNN where the output from previous\n",
        "timestep is to be fed to next timestep.\n",
        "\n",
        "2. `keras.layers.GRU`, first proposed in\n",
        "[Cho et al., 2014](https://arxiv.org/abs/1406.1078).\n",
        "\n",
        "3. `keras.layers.LSTM`, first proposed in\n",
        "[Hochreiter & Schmidhuber, 1997](https://www.bioinf.jku.at/publications/older/2604.pdf).\n",
        "\n",
        "In early 2015, Keras had the first reusable open-source Python implementations of LSTM\n",
        "and GRU.\n",
        "\n",
        "Here is a simple example of a `Sequential` model that processes sequences of integers,\n",
        "embeds each integer into a 64-dimensional vector, then processes the sequence of\n",
        "vectors using a `LSTM` layer."
      ],
      "metadata": {
        "id": "cqKxLHRzResC"
      }
    },
    {
      "cell_type": "code",
      "source": [
        "model = keras.Sequential()\n",
        "# Add an Embedding layer expecting input vocab of size 1000, and\n",
        "# output embedding dimension of size 64.\n",
        "model.add(layers.Embedding(input_dim=1000, output_dim=64))\n",
        "\n",
        "# Add a LSTM layer with 128 internal units.\n",
        "model.add(layers.LSTM(128))\n",
        "\n",
        "# Add a Dense layer with 10 units.\n",
        "model.add(layers.Dense(10))\n",
        "\n",
        "model.summary()"
      ],
      "metadata": {
        "colab": {
          "base_uri": "https://localhost:8080/"
        },
        "id": "2dHP-XoVRe9c",
        "outputId": "d50997e6-0c7f-419c-9583-7db18ae3eebd"
      },
      "execution_count": null,
      "outputs": [
        {
          "output_type": "stream",
          "name": "stdout",
          "text": [
            "Model: \"sequential\"\n",
            "_________________________________________________________________\n",
            " Layer (type)                Output Shape              Param #   \n",
            "=================================================================\n",
            " embedding (Embedding)       (None, None, 64)          64000     \n",
            "                                                                 \n",
            " lstm (LSTM)                 (None, 128)               98816     \n",
            "                                                                 \n",
            " dense (Dense)               (None, 10)                1290      \n",
            "                                                                 \n",
            "=================================================================\n",
            "Total params: 164,106\n",
            "Trainable params: 164,106\n",
            "Non-trainable params: 0\n",
            "_________________________________________________________________\n"
          ]
        }
      ]
    },
    {
      "cell_type": "code",
      "source": [
        ""
      ],
      "metadata": {
        "id": "_r91k2Z_vqny"
      },
      "execution_count": null,
      "outputs": []
    },
    {
      "cell_type": "markdown",
      "source": [
        "Built-in RNNs support a number of useful features:\n",
        "\n",
        "- Recurrent dropout, via the `dropout` and `recurrent_dropout` arguments\n",
        "- Ability to process an input sequence in reverse, via the `go_backwards` argument\n",
        "- Loop unrolling (which can lead to a large speedup when processing short sequences on\n",
        "CPU), via the `unroll` argument\n",
        "- ...and more.\n",
        "\n",
        "For more information, see the\n",
        "[RNN API documentation](https://keras.io/api/layers/recurrent_layers/)."
      ],
      "metadata": {
        "id": "yOq16HoiRugV"
      }
    },
    {
      "cell_type": "markdown",
      "source": [
        "## Outputs and states\n",
        "\n",
        "By default, the output of a RNN layer contains a single vector per sample. This vector\n",
        "is the RNN cell output corresponding to the last timestep, containing information\n",
        "about the entire input sequence. The shape of this output is `(batch_size, units)`\n",
        "where `units` corresponds to the `units` argument passed to the layer's constructor.\n",
        "\n",
        "A RNN layer can also return the entire sequence of outputs for each sample (one vector\n",
        "per timestep per sample), if you set `return_sequences=True`. The shape of this output\n",
        "is `(batch_size, timesteps, units)`."
      ],
      "metadata": {
        "id": "sPYuUnOIR5Wv"
      }
    },
    {
      "cell_type": "code",
      "source": [
        "model = keras.Sequential()\n",
        "model.add(layers.Embedding(input_dim=1000, output_dim=64))\n",
        "\n",
        "# The output of GRU will be a 3D tensor of shape (batch_size, timesteps, 256)\n",
        "model.add(layers.GRU(256, return_sequences=True))\n",
        "\n",
        "# The output of SimpleRNN will be a 2D tensor of shape (batch_size, 128)\n",
        "model.add(layers.SimpleRNN(128))\n",
        "\n",
        "model.add(layers.Dense(10))\n",
        "\n",
        "model.summary()"
      ],
      "metadata": {
        "colab": {
          "base_uri": "https://localhost:8080/"
        },
        "id": "N42lpx4gRsEp",
        "outputId": "4f8dcd6b-4732-49f1-dfb7-eed54fb0e6eb"
      },
      "execution_count": null,
      "outputs": [
        {
          "output_type": "stream",
          "name": "stdout",
          "text": [
            "Model: \"sequential_1\"\n",
            "_________________________________________________________________\n",
            " Layer (type)                Output Shape              Param #   \n",
            "=================================================================\n",
            " embedding_1 (Embedding)     (None, None, 64)          64000     \n",
            "                                                                 \n",
            " gru (GRU)                   (None, None, 256)         247296    \n",
            "                                                                 \n",
            " simple_rnn (SimpleRNN)      (None, 128)               49280     \n",
            "                                                                 \n",
            " dense_1 (Dense)             (None, 10)                1290      \n",
            "                                                                 \n",
            "=================================================================\n",
            "Total params: 361,866\n",
            "Trainable params: 361,866\n",
            "Non-trainable params: 0\n",
            "_________________________________________________________________\n"
          ]
        }
      ]
    },
    {
      "cell_type": "markdown",
      "source": [
        "In addition, a RNN layer can return its final internal state(s). The returned states\n",
        "can be used to resume the RNN execution later, or\n",
        "[to initialize another RNN](https://arxiv.org/abs/1409.3215).\n",
        "This setting is commonly used in the\n",
        "encoder-decoder sequence-to-sequence model, where the encoder final state is used as\n",
        "the initial state of the decoder.\n",
        "\n",
        "To configure a RNN layer to return its internal state, set the `return_state` parameter\n",
        "to `True` when creating the layer. Note that `LSTM` has 2 state  tensors, but `GRU`\n",
        "only has one.\n",
        "\n",
        "To configure the initial state of the layer, just call the layer with additional\n",
        "keyword argument `initial_state`.\n",
        "Note that the shape of the state needs to match the unit size of the layer, like in the\n",
        "example below."
      ],
      "metadata": {
        "id": "KSnXWq-NSIUb"
      }
    },
    {
      "cell_type": "code",
      "source": [
        "encoder_vocab = 1000\n",
        "decoder_vocab = 2000\n",
        "\n",
        "encoder_input = layers.Input(shape=(None,))\n",
        "encoder_embedded = layers.Embedding(input_dim=encoder_vocab, output_dim=64)(\n",
        "    encoder_input\n",
        ")\n",
        "\n",
        "# Return states in addition to output\n",
        "output, state_h, state_c = layers.LSTM(64, return_state=True, name=\"encoder\")(\n",
        "    encoder_embedded\n",
        ")\n",
        "encoder_state = [state_h, state_c]\n",
        "\n",
        "decoder_input = layers.Input(shape=(None,))\n",
        "decoder_embedded = layers.Embedding(input_dim=decoder_vocab, output_dim=64)(\n",
        "    decoder_input\n",
        ")\n",
        "\n",
        "# Pass the 2 states to a new LSTM layer, as initial state\n",
        "decoder_output = layers.LSTM(64, name=\"decoder\")(\n",
        "    decoder_embedded, initial_state=encoder_state\n",
        ")\n",
        "output = layers.Dense(10)(decoder_output)\n",
        "\n",
        "model = keras.Model([encoder_input, decoder_input], output)\n",
        "model.summary()"
      ],
      "metadata": {
        "colab": {
          "base_uri": "https://localhost:8080/"
        },
        "id": "ll1jr9McSFjV",
        "outputId": "326b182e-daa9-4777-9b24-943581ebfcf7"
      },
      "execution_count": null,
      "outputs": [
        {
          "output_type": "stream",
          "name": "stdout",
          "text": [
            "Model: \"model\"\n",
            "__________________________________________________________________________________________________\n",
            " Layer (type)                   Output Shape         Param #     Connected to                     \n",
            "==================================================================================================\n",
            " input_1 (InputLayer)           [(None, None)]       0           []                               \n",
            "                                                                                                  \n",
            " input_2 (InputLayer)           [(None, None)]       0           []                               \n",
            "                                                                                                  \n",
            " embedding_2 (Embedding)        (None, None, 64)     64000       ['input_1[0][0]']                \n",
            "                                                                                                  \n",
            " embedding_3 (Embedding)        (None, None, 64)     128000      ['input_2[0][0]']                \n",
            "                                                                                                  \n",
            " encoder (LSTM)                 [(None, 64),         33024       ['embedding_2[0][0]']            \n",
            "                                 (None, 64),                                                      \n",
            "                                 (None, 64)]                                                      \n",
            "                                                                                                  \n",
            " decoder (LSTM)                 (None, 64)           33024       ['embedding_3[0][0]',            \n",
            "                                                                  'encoder[0][1]',                \n",
            "                                                                  'encoder[0][2]']                \n",
            "                                                                                                  \n",
            " dense_2 (Dense)                (None, 10)           650         ['decoder[0][0]']                \n",
            "                                                                                                  \n",
            "==================================================================================================\n",
            "Total params: 258,698\n",
            "Trainable params: 258,698\n",
            "Non-trainable params: 0\n",
            "__________________________________________________________________________________________________\n"
          ]
        }
      ]
    },
    {
      "cell_type": "markdown",
      "source": [
        "## RNN layers and RNN cells\n",
        "\n",
        "In addition to the built-in RNN layers, the RNN API also provides cell-level APIs.\n",
        "Unlike RNN layers, which processes whole batches of input sequences, the RNN cell only\n",
        "processes a single timestep.\n",
        "\n",
        "The cell is the inside of the `for` loop of a RNN layer. Wrapping a cell inside a\n",
        "`keras.layers.RNN` layer gives you a layer capable of processing batches of\n",
        "sequences, e.g. `RNN(LSTMCell(10))`.\n",
        "\n",
        "Mathematically, `RNN(LSTMCell(10))` produces the same result as `LSTM(10)`. In fact,\n",
        "the implementation of this layer in TF v1.x was just creating the corresponding RNN\n",
        "cell and wrapping it in a RNN layer.  However using the built-in `GRU` and `LSTM`\n",
        "layers enable the use of CuDNN and you may see better performance.\n",
        "\n",
        "There are three built-in RNN cells, each of them corresponding to the matching RNN\n",
        "layer.\n",
        "\n",
        "- `keras.layers.SimpleRNNCell` corresponds to the `SimpleRNN` layer.\n",
        "\n",
        "- `keras.layers.GRUCell` corresponds to the `GRU` layer.\n",
        "\n",
        "- `keras.layers.LSTMCell` corresponds to the `LSTM` layer.\n",
        "\n",
        "The cell abstraction, together with the generic `keras.layers.RNN` class, make it\n",
        "very easy to implement custom RNN architectures for your research."
      ],
      "metadata": {
        "id": "guOqzGZlSflo"
      }
    },
    {
      "cell_type": "markdown",
      "source": [
        "## Cross-batch statefulness\n",
        "\n",
        "When processing very long sequences (possibly infinite), you may want to use the\n",
        "pattern of **cross-batch statefulness**.\n",
        "\n",
        "Normally, the internal state of a RNN layer is reset every time it sees a new batch\n",
        "(i.e. every sample seen by the layer is assumed to be independent of the past). The\n",
        "layer will only maintain a state while processing a given sample.\n",
        "\n",
        "If you have very long sequences though, it is useful to break them into shorter\n",
        "sequences, and to feed these shorter sequences sequentially into a RNN layer without\n",
        "resetting the layer's state. That way, the layer can retain information about the\n",
        "entirety of the sequence, even though it's only seeing one sub-sequence at a time.\n",
        "\n",
        "You can do this by setting `stateful=True` in the constructor.\n",
        "\n",
        "If you have a sequence `s = [t0, t1, ... t1546, t1547]`, you would split it into e.g.\n",
        "\n",
        "```\n",
        "s1 = [t0, t1, ... t100]\n",
        "s2 = [t101, ... t201]\n",
        "...\n",
        "s16 = [t1501, ... t1547]\n",
        "```\n",
        "\n",
        "Then you would process it via:\n",
        "\n",
        "```python\n",
        "lstm_layer = layers.LSTM(64, stateful=True)\n",
        "for s in sub_sequences:\n",
        "  output = lstm_layer(s)\n",
        "```\n",
        "\n",
        "When you want to clear the state, you  can use `layer.reset_states()`.\n",
        "\n",
        "\n",
        "> Note: In this setup, sample `i` in a given batch is assumed to be the continuation of\n",
        "sample `i` in the previous batch. This means that all batches should contain the same\n",
        "number of samples (batch size). E.g. if a batch contains `[sequence_A_from_t0_to_t100,\n",
        " sequence_B_from_t0_to_t100]`, the next batch should contain\n",
        "`[sequence_A_from_t101_to_t200,  sequence_B_from_t101_to_t200]`.\n",
        "\n",
        "\n",
        "\n",
        "\n",
        "Here is a complete example:"
      ],
      "metadata": {
        "id": "mkqlbQeFSoLD"
      }
    },
    {
      "cell_type": "code",
      "source": [
        "paragraph1 = np.random.random((20, 10, 50)).astype(np.float32)\n",
        "paragraph2 = np.random.random((20, 10, 50)).astype(np.float32)\n",
        "paragraph3 = np.random.random((20, 10, 50)).astype(np.float32)\n",
        "\n",
        "lstm_layer = layers.LSTM(64, stateful=True)\n",
        "output = lstm_layer(paragraph1)\n",
        "output = lstm_layer(paragraph2)\n",
        "output = lstm_layer(paragraph3)\n",
        "\n",
        "# reset_states() will reset the cached state to the original initial_state.\n",
        "# If no initial_state was provided, zero-states will be used by default.\n",
        "lstm_layer.reset_states()"
      ],
      "metadata": {
        "id": "zl0ACmgNScaz"
      },
      "execution_count": null,
      "outputs": []
    },
    {
      "cell_type": "markdown",
      "source": [
        "### RNN State Reuse\n",
        "<a id=\"rnn_state_reuse\"></a>"
      ],
      "metadata": {
        "id": "Ogq-G3tmSxVm"
      }
    },
    {
      "cell_type": "markdown",
      "source": [
        "The recorded states of the RNN layer are not included in the `layer.weights()`. If you\n",
        "would like to reuse the state from a RNN layer, you can retrieve the states value by\n",
        "`layer.states` and use it as the\n",
        "initial state for a new layer via the Keras functional API like `new_layer(inputs,\n",
        "initial_state=layer.states)`, or model subclassing.\n",
        "\n",
        "Please also note that sequential model might not be used in this case since it only\n",
        "supports layers with single input and output, the extra input of initial state makes\n",
        "it impossible to use here."
      ],
      "metadata": {
        "id": "nBDOAbwwSxhR"
      }
    },
    {
      "cell_type": "code",
      "source": [
        "paragraph1 = np.random.random((20, 10, 50)).astype(np.float32)\n",
        "paragraph2 = np.random.random((20, 10, 50)).astype(np.float32)\n",
        "paragraph3 = np.random.random((20, 10, 50)).astype(np.float32)\n",
        "\n",
        "lstm_layer = layers.LSTM(64, stateful=True)\n",
        "output = lstm_layer(paragraph1)\n",
        "output = lstm_layer(paragraph2)\n",
        "\n",
        "existing_state = lstm_layer.states\n",
        "\n",
        "new_lstm_layer = layers.LSTM(64)\n",
        "new_output = new_lstm_layer(paragraph3, initial_state=existing_state)"
      ],
      "metadata": {
        "id": "ehFkHqbgSt2D"
      },
      "execution_count": null,
      "outputs": []
    },
    {
      "cell_type": "markdown",
      "source": [
        "## Bidirectional RNNs\n",
        "\n",
        "For sequences other than time series (e.g. text), it is often the case that a RNN model\n",
        "can perform better if it not only processes sequence from start to end, but also\n",
        "backwards. For example, to predict the next word in a sentence, it is often useful to\n",
        "have the context around the word, not only just the words that come before it.\n",
        "\n",
        "Keras provides an easy API for you to build such bidirectional RNNs: the\n",
        "`keras.layers.Bidirectional` wrapper."
      ],
      "metadata": {
        "id": "GXpo9ht3S676"
      }
    },
    {
      "cell_type": "code",
      "source": [
        "model = keras.Sequential()\n",
        "\n",
        "model.add(\n",
        "    layers.Bidirectional(layers.LSTM(64, return_sequences=True), input_shape=(5, 10))\n",
        ")\n",
        "model.add(layers.Bidirectional(layers.LSTM(32)))\n",
        "model.add(layers.Dense(10))\n",
        "\n",
        "model.summary()"
      ],
      "metadata": {
        "colab": {
          "base_uri": "https://localhost:8080/"
        },
        "id": "8qQs2i92S4dm",
        "outputId": "2d8c145f-6fb0-465a-ddd5-bdc59b743a7f"
      },
      "execution_count": null,
      "outputs": [
        {
          "output_type": "stream",
          "name": "stdout",
          "text": [
            "Model: \"sequential_2\"\n",
            "_________________________________________________________________\n",
            " Layer (type)                Output Shape              Param #   \n",
            "=================================================================\n",
            " bidirectional (Bidirectiona  (None, 5, 128)           38400     \n",
            " l)                                                              \n",
            "                                                                 \n",
            " bidirectional_1 (Bidirectio  (None, 64)               41216     \n",
            " nal)                                                            \n",
            "                                                                 \n",
            " dense_3 (Dense)             (None, 10)                650       \n",
            "                                                                 \n",
            "=================================================================\n",
            "Total params: 80,266\n",
            "Trainable params: 80,266\n",
            "Non-trainable params: 0\n",
            "_________________________________________________________________\n"
          ]
        }
      ]
    },
    {
      "cell_type": "markdown",
      "source": [
        "Under the hood, `Bidirectional` will copy the RNN layer passed in, and flip the\n",
        "`go_backwards` field of the newly copied layer, so that it will process the inputs in\n",
        "reverse order.\n",
        "\n",
        "The output of the `Bidirectional` RNN will be, by default, the concatenation of the forward layer\n",
        "output and the backward layer output. If you need a different merging behavior, e.g.\n",
        "concatenation, change the `merge_mode` parameter in the `Bidirectional` wrapper\n",
        "constructor. For more details about `Bidirectional`, please check\n",
        "[the API docs](https://www.tensorflow.org/api_docs/python/tf/keras/layers/Bidirectional/)."
      ],
      "metadata": {
        "id": "vUPQB3rMTBAH"
      }
    },
    {
      "cell_type": "code",
      "source": [
        ""
      ],
      "metadata": {
        "id": "KHbMtnUvS9kp"
      },
      "execution_count": null,
      "outputs": []
    },
    {
      "cell_type": "markdown",
      "source": [
        "## Performance optimization and CuDNN kernels\n",
        "\n",
        "In TensorFlow 2.0, the built-in LSTM and GRU layers have been updated to leverage CuDNN\n",
        "kernels by default when a GPU is available. With this change, the prior\n",
        "`keras.layers.CuDNNLSTM/CuDNNGRU` layers have been deprecated, and you can build your\n",
        "model without worrying about the hardware it will run on.\n",
        "\n",
        "Since the CuDNN kernel is built with certain assumptions, this means the layer **will\n",
        "not be able to use the CuDNN kernel if you change the defaults of the built-in LSTM or\n",
        "GRU layers**. E.g.:\n",
        "\n",
        "- Changing the `activation` function from `tanh` to something else.\n",
        "- Changing the `recurrent_activation` function from `sigmoid` to something else.\n",
        "- Using `recurrent_dropout` > 0.\n",
        "- Setting `unroll` to True, which forces LSTM/GRU to decompose the inner\n",
        "`tf.while_loop` into an unrolled `for` loop.\n",
        "- Setting `use_bias` to False.\n",
        "- Using masking when the input data is not strictly right padded (if the mask\n",
        "corresponds to strictly right padded data, CuDNN can still be used. This is the most\n",
        "common case).\n",
        "\n",
        "For the detailed list of constraints, please see the documentation for the\n",
        "[LSTM](https://www.tensorflow.org/api_docs/python/tf/keras/layers/LSTM/) and\n",
        "[GRU](https://www.tensorflow.org/api_docs/python/tf/keras/layers/GRU/) layers."
      ],
      "metadata": {
        "id": "NEdP_jOVTGfg"
      }
    },
    {
      "cell_type": "markdown",
      "source": [
        "### Using CuDNN kernels when available\n",
        "\n",
        "Let's build a simple LSTM model to demonstrate the performance difference.\n",
        "\n",
        "We'll use as input sequences the sequence of rows of MNIST digits (treating each row of\n",
        "pixels as a timestep), and we'll predict the digit's label."
      ],
      "metadata": {
        "id": "qQWziHfSTGn9"
      }
    },
    {
      "cell_type": "code",
      "source": [
        "batch_size = 64\n",
        "# Each MNIST image batch is a tensor of shape (batch_size, 28, 28).\n",
        "# Each input sequence will be of size (28, 28) (height is treated like time).\n",
        "input_dim = 28\n",
        "\n",
        "units = 64\n",
        "output_size = 10  # labels are from 0 to 9\n",
        "\n",
        "# Build the RNN model\n",
        "def build_model(allow_cudnn_kernel=True):\n",
        "    # CuDNN is only available at the layer level, and not at the cell level.\n",
        "    # This means `LSTM(units)` will use the CuDNN kernel,\n",
        "    # while RNN(LSTMCell(units)) will run on non-CuDNN kernel.\n",
        "    if allow_cudnn_kernel:\n",
        "        # The LSTM layer with default options uses CuDNN.\n",
        "        lstm_layer = keras.layers.LSTM(units, input_shape=(None, input_dim))\n",
        "    else:\n",
        "        # Wrapping a LSTMCell in a RNN layer will not use CuDNN.\n",
        "        lstm_layer = keras.layers.RNN(\n",
        "            keras.layers.LSTMCell(units), input_shape=(None, input_dim)\n",
        "        )\n",
        "    model = keras.models.Sequential(\n",
        "        [\n",
        "            lstm_layer,\n",
        "            keras.layers.BatchNormalization(),\n",
        "            keras.layers.Dense(output_size),\n",
        "        ]\n",
        "    )\n",
        "    return model"
      ],
      "metadata": {
        "id": "vBu-PzuhTJ-D"
      },
      "execution_count": null,
      "outputs": []
    },
    {
      "cell_type": "markdown",
      "source": [
        "Let's load the MNIST dataset:"
      ],
      "metadata": {
        "id": "1WH0uiRHTSr-"
      }
    },
    {
      "cell_type": "code",
      "source": [
        "mnist = keras.datasets.mnist\n",
        "\n",
        "(x_train, y_train), (x_test, y_test) = mnist.load_data()\n",
        "x_train, x_test = x_train / 255.0, x_test / 255.0\n",
        "sample, sample_label = x_train[0], y_train[0]"
      ],
      "metadata": {
        "colab": {
          "base_uri": "https://localhost:8080/"
        },
        "id": "ak3XNpQaTL8B",
        "outputId": "1ab707bb-ba8e-4e36-e2b5-aff0b6f185bd"
      },
      "execution_count": null,
      "outputs": [
        {
          "output_type": "stream",
          "name": "stdout",
          "text": [
            "Downloading data from https://storage.googleapis.com/tensorflow/tf-keras-datasets/mnist.npz\n",
            "11493376/11490434 [==============================] - 0s 0us/step\n",
            "11501568/11490434 [==============================] - 0s 0us/step\n"
          ]
        }
      ]
    },
    {
      "cell_type": "markdown",
      "source": [
        "Let's create a model instance and train it.\n",
        "\n",
        "We choose `sparse_categorical_crossentropy` as the loss function for the model. The\n",
        "output of the model has shape of `[batch_size, 10]`. The target for the model is an\n",
        "integer vector, each of the integer is in the range of 0 to 9."
      ],
      "metadata": {
        "id": "MWqTQmsCTYGS"
      }
    },
    {
      "cell_type": "code",
      "source": [
        "model = build_model(allow_cudnn_kernel=True)\n",
        "\n",
        "model.compile(\n",
        "    loss=keras.losses.SparseCategoricalCrossentropy(from_logits=True),\n",
        "    optimizer=\"sgd\",\n",
        "    metrics=[\"accuracy\"],\n",
        ")\n",
        "\n",
        "\n",
        "model.fit(\n",
        "    x_train, y_train, validation_data=(x_test, y_test), batch_size=batch_size, epochs=1\n",
        ")"
      ],
      "metadata": {
        "colab": {
          "base_uri": "https://localhost:8080/"
        },
        "id": "uh9lxKihTUEo",
        "outputId": "a5f71577-9b9e-4e1a-8ddb-0a111154350d"
      },
      "execution_count": null,
      "outputs": [
        {
          "output_type": "stream",
          "name": "stdout",
          "text": [
            "938/938 [==============================] - 23s 22ms/step - loss: 0.9979 - accuracy: 0.6796 - val_loss: 0.5440 - val_accuracy: 0.8295\n"
          ]
        },
        {
          "output_type": "execute_result",
          "data": {
            "text/plain": [
              "<keras.callbacks.History at 0x7f19a7341a10>"
            ]
          },
          "metadata": {},
          "execution_count": 12
        }
      ]
    },
    {
      "cell_type": "markdown",
      "source": [
        "Now, let's compare to a model that does not use the CuDNN kernel:"
      ],
      "metadata": {
        "id": "YF2AujIITeuM"
      }
    },
    {
      "cell_type": "code",
      "source": [
        "noncudnn_model = build_model(allow_cudnn_kernel=False)\n",
        "noncudnn_model.set_weights(model.get_weights())\n",
        "noncudnn_model.compile(\n",
        "    loss=keras.losses.SparseCategoricalCrossentropy(from_logits=True),\n",
        "    optimizer=\"sgd\",\n",
        "    metrics=[\"accuracy\"],\n",
        ")\n",
        "noncudnn_model.fit(\n",
        "    x_train, y_train, validation_data=(x_test, y_test), batch_size=batch_size, epochs=1\n",
        ")"
      ],
      "metadata": {
        "id": "-n-Qs135TcLu"
      },
      "execution_count": null,
      "outputs": []
    },
    {
      "cell_type": "markdown",
      "source": [
        "When running on a machine with a NVIDIA GPU and CuDNN installed,\n",
        "the model built with CuDNN is much faster to train compared to the\n",
        "model that uses the regular TensorFlow kernel.\n",
        "\n",
        "The same CuDNN-enabled model can also be used to run inference in a CPU-only\n",
        "environment. The `tf.device` annotation below is just forcing the device placement.\n",
        "The model will run on CPU by default if no GPU is available.\n",
        "\n",
        "You simply don't have to worry about the hardware you're running on anymore. Isn't that\n",
        "pretty cool?"
      ],
      "metadata": {
        "id": "NTuowHx5Tino"
      }
    },
    {
      "cell_type": "code",
      "source": [
        "import matplotlib.pyplot as plt\n",
        "\n",
        "with tf.device(\"CPU:0\"):\n",
        "    cpu_model = build_model(allow_cudnn_kernel=True)\n",
        "    cpu_model.set_weights(model.get_weights())\n",
        "    result = tf.argmax(cpu_model.predict_on_batch(tf.expand_dims(sample, 0)), axis=1)\n",
        "    print(\n",
        "        \"Predicted result is: %s, target result is: %s\" % (result.numpy(), sample_label)\n",
        "    )\n",
        "    plt.imshow(sample, cmap=plt.get_cmap(\"gray\"))"
      ],
      "metadata": {
        "colab": {
          "base_uri": "https://localhost:8080/",
          "height": 283
        },
        "id": "ZEThm8JUTi6i",
        "outputId": "05d4a488-0938-4e22-e239-971415f4018c"
      },
      "execution_count": null,
      "outputs": [
        {
          "output_type": "stream",
          "name": "stdout",
          "text": [
            "Predicted result is: [3], target result is: 5\n"
          ]
        },
        {
          "output_type": "display_data",
          "data": {
            "image/png": "[encoded data removed]",
            "text/plain": [
              "<Figure size 432x288 with 1 Axes>"
            ]
          },
          "metadata": {
            "needs_background": "light"
          }
        }
      ]
    },
    {
      "cell_type": "markdown",
      "source": [
        "## RNNs with list/dict inputs, or nested inputs\n",
        "\n",
        "Nested structures allow implementers to include more information within a single\n",
        "timestep. For example, a video frame could have audio and video input at the same\n",
        "time. The data shape in this case could be:\n",
        "\n",
        "`[batch, timestep, {\"video\": [height, width, channel], \"audio\": [frequency]}]`\n",
        "\n",
        "In another example, handwriting data could have both coordinates x and y for the\n",
        "current position of the pen, as well as pressure information. So the data\n",
        "representation could be:\n",
        "\n",
        "`[batch, timestep, {\"location\": [x, y], \"pressure\": [force]}]`\n",
        "\n",
        "The following code provides an example of how to build a custom RNN cell that accepts\n",
        "such structured inputs."
      ],
      "metadata": {
        "id": "vhm15NpQTxVo"
      }
    },
    {
      "cell_type": "markdown",
      "source": [
        "### Define a custom cell that supports nested input/output"
      ],
      "metadata": {
        "id": "HvMJMWx9VJ48"
      }
    },
    {
      "cell_type": "markdown",
      "source": [
        "See [Making new Layers & Models via subclassing](https://www.tensorflow.org/guide/keras/custom_layers_and_models/)\n",
        "for details on writing your own layers."
      ],
      "metadata": {
        "id": "7J4_cP7DVPXv"
      }
    },
    {
      "cell_type": "code",
      "source": [
        "class NestedCell(keras.layers.Layer):\n",
        "    def __init__(self, unit_1, unit_2, unit_3, **kwargs):\n",
        "        self.unit_1 = unit_1\n",
        "        self.unit_2 = unit_2\n",
        "        self.unit_3 = unit_3\n",
        "        self.state_size = [tf.TensorShape([unit_1]), tf.TensorShape([unit_2, unit_3])]\n",
        "        self.output_size = [tf.TensorShape([unit_1]), tf.TensorShape([unit_2, unit_3])]\n",
        "        super(NestedCell, self).__init__(**kwargs)\n",
        "\n",
        "    def build(self, input_shapes):\n",
        "        # expect input_shape to contain 2 items, [(batch, i1), (batch, i2, i3)]\n",
        "        i1 = input_shapes[0][1]\n",
        "        i2 = input_shapes[1][1]\n",
        "        i3 = input_shapes[1][2]\n",
        "\n",
        "        self.kernel_1 = self.add_weight(\n",
        "            shape=(i1, self.unit_1), initializer=\"uniform\", name=\"kernel_1\"\n",
        "        )\n",
        "        self.kernel_2_3 = self.add_weight(\n",
        "            shape=(i2, i3, self.unit_2, self.unit_3),\n",
        "            initializer=\"uniform\",\n",
        "            name=\"kernel_2_3\",\n",
        "        )\n",
        "\n",
        "    def call(self, inputs, states):\n",
        "        # inputs should be in [(batch, input_1), (batch, input_2, input_3)]\n",
        "        # state should be in shape [(batch, unit_1), (batch, unit_2, unit_3)]\n",
        "        input_1, input_2 = tf.nest.flatten(inputs)\n",
        "        s1, s2 = states\n",
        "\n",
        "        output_1 = tf.matmul(input_1, self.kernel_1)\n",
        "        output_2_3 = tf.einsum(\"bij,ijkl->bkl\", input_2, self.kernel_2_3)\n",
        "        state_1 = s1 + output_1\n",
        "        state_2_3 = s2 + output_2_3\n",
        "\n",
        "        output = (output_1, output_2_3)\n",
        "        new_states = (state_1, state_2_3)\n",
        "\n",
        "        return output, new_states\n",
        "\n",
        "    def get_config(self):\n",
        "        return {\"unit_1\": self.unit_1, \"unit_2\": unit_2, \"unit_3\": self.unit_3}"
      ],
      "metadata": {
        "id": "Xd3WRepVVPjx"
      },
      "execution_count": null,
      "outputs": []
    },
    {
      "cell_type": "markdown",
      "source": [
        "### Build a RNN model with nested input/output\n",
        "\n",
        "Let's build a Keras model that uses a `keras.layers.RNN` layer and the custom cell\n",
        "we just defined."
      ],
      "metadata": {
        "id": "UphRqg7AVUN-"
      }
    },
    {
      "cell_type": "code",
      "source": [
        "unit_1 = 10\n",
        "unit_2 = 20\n",
        "unit_3 = 30\n",
        "\n",
        "i1 = 32\n",
        "i2 = 64\n",
        "i3 = 32\n",
        "batch_size = 64\n",
        "num_batches = 10\n",
        "timestep = 50\n",
        "\n",
        "cell = NestedCell(unit_1, unit_2, unit_3)\n",
        "rnn = keras.layers.RNN(cell)\n",
        "\n",
        "input_1 = keras.Input((None, i1))\n",
        "input_2 = keras.Input((None, i2, i3))\n",
        "\n",
        "outputs = rnn((input_1, input_2))\n",
        "\n",
        "model = keras.models.Model([input_1, input_2], outputs)\n",
        "\n",
        "model.compile(optimizer=\"adam\", loss=\"mse\", metrics=[\"accuracy\"])"
      ],
      "metadata": {
        "id": "58e5aJkEVSA8"
      },
      "execution_count": null,
      "outputs": []
    },
    {
      "cell_type": "markdown",
      "source": [
        "### Train the model with randomly generated data\n",
        "\n",
        "Since there isn't a good candidate dataset for this model, we use random Numpy data for\n",
        "demonstration."
      ],
      "metadata": {
        "id": "wCGwqaNsVYiL"
      }
    },
    {
      "cell_type": "code",
      "source": [
        "input_1_data = np.random.random((batch_size * num_batches, timestep, i1))\n",
        "input_2_data = np.random.random((batch_size * num_batches, timestep, i2, i3))\n",
        "target_1_data = np.random.random((batch_size * num_batches, unit_1))\n",
        "target_2_data = np.random.random((batch_size * num_batches, unit_2, unit_3))\n",
        "input_data = [input_1_data, input_2_data]\n",
        "target_data = [target_1_data, target_2_data]\n",
        "\n",
        "model.fit(input_data, target_data, batch_size=batch_size)"
      ],
      "metadata": {
        "colab": {
          "base_uri": "https://localhost:8080/"
        },
        "id": "qCg38-xqVY5O",
        "outputId": "935b8bda-d688-4c5b-8149-8b32511ab370"
      },
      "execution_count": null,
      "outputs": [
        {
          "output_type": "stream",
          "name": "stdout",
          "text": [
            "10/10 [==============================] - 7s 633ms/step - loss: 0.7081 - rnn_loss: 0.2245 - rnn_1_loss: 0.4836 - rnn_accuracy: 0.1156 - rnn_1_accuracy: 0.0359\n"
          ]
        },
        {
          "output_type": "execute_result",
          "data": {
            "text/plain": [
              "<keras.callbacks.History at 0x7f19a6b053d0>"
            ]
          },
          "metadata": {},
          "execution_count": 16
        }
      ]
    },
    {
      "cell_type": "markdown",
      "source": [
        "With the Keras `keras.layers.RNN` layer, You are only expected to define the math\n",
        "logic for individual step within the sequence, and the `keras.layers.RNN` layer\n",
        "will handle the sequence iteration for you. It's an incredibly powerful way to quickly\n",
        "prototype new kinds of RNNs (e.g. a LSTM variant).\n",
        "\n",
        "For more details, please visit the [API docs](https://https://www.tensorflow.org/api_docs/python/tf/keras/layers/RNN/)."
      ],
      "metadata": {
        "id": "zrRqpF1bVcy7"
      }
    },
    {
      "cell_type": "code",
      "source": [
        "predictions = model.predict(input_data)\n",
        "predictions"
      ],
      "metadata": {
        "colab": {
          "base_uri": "https://localhost:8080/"
        },
        "id": "1GrxqAmhVdEP",
        "outputId": "0d4959bd-7709-4f67-892f-f89c06c3a05d"
      },
      "execution_count": null,
      "outputs": [
        {
          "output_type": "execute_result",
          "data": {
            "text/plain": [
              "(array([[0.06965395, 0.27691254, 0.2237772 , ..., 0.30744934, 0.1372456 ,\n",
              "         0.10074578],\n",
              "        [0.13804807, 0.30323777, 0.29656535, ..., 0.4292952 , 0.1824691 ,\n",
              "         0.28884894],\n",
              "        [0.05957157, 0.3205943 , 0.24986504, ..., 0.32242718, 0.21186392,\n",
              "         0.25361922],\n",
              "        ...,\n",
              "        [0.14208668, 0.3137777 , 0.24688868, ..., 0.42504087, 0.18184806,\n",
              "         0.21356083],\n",
              "        [0.16039711, 0.3328238 , 0.30338994, ..., 0.4459413 , 0.2840501 ,\n",
              "         0.23159334],\n",
              "        [0.10100386, 0.39529663, 0.26933527, ..., 0.41335127, 0.2736756 ,\n",
              "         0.25998995]], dtype=float32),\n",
              " array([[[ 7.9697752e-01,  1.8869638e-01,  3.6225748e-01, ...,\n",
              "           9.2104030e-01,  9.6485525e-01,  7.8295958e-01],\n",
              "         [ 2.3724233e-01,  7.9294026e-01,  1.1395390e+00, ...,\n",
              "           5.0738335e-02,  3.4292382e-01,  3.2751882e-01],\n",
              "         [ 9.1511476e-01,  6.9860715e-01, -2.9462904e-02, ...,\n",
              "           7.0317352e-01,  1.0634565e+00,  6.5154099e-01],\n",
              "         ...,\n",
              "         [ 5.0121439e-01,  8.4242451e-01,  1.0884707e+00, ...,\n",
              "           8.3820933e-01, -4.9044788e-02,  5.3121161e-01],\n",
              "         [ 1.3968288e+00, -8.1074446e-01,  8.1859261e-01, ...,\n",
              "           1.1345644e-01,  1.8266088e-01,  4.0087485e-01],\n",
              "         [ 3.9510560e-01, -3.7669617e-01,  1.0442821e+00, ...,\n",
              "           8.4014171e-01,  7.6415765e-01,  9.0476835e-01]],\n",
              " \n",
              "        [[ 1.0197031e+00,  8.4991232e-02, -4.0029126e-01, ...,\n",
              "           6.2271446e-01,  1.4952855e+00,  7.0016718e-01],\n",
              "         [ 1.9674151e-01,  1.1549066e+00,  9.8538083e-01, ...,\n",
              "          -5.7543302e-01,  2.3160762e-01,  4.9839306e-01],\n",
              "         [ 5.7587230e-01,  6.9640231e-01,  5.1595712e-01, ...,\n",
              "           1.1557078e+00,  1.4190098e+00,  7.4669075e-01],\n",
              "         ...,\n",
              "         [-2.3983917e-01,  1.2911439e+00,  8.3368051e-01, ...,\n",
              "           1.1695561e+00, -4.1488272e-01,  4.6947056e-01],\n",
              "         [ 1.6290791e+00, -6.6720799e-02,  7.0381594e-01, ...,\n",
              "           3.8707942e-01, -3.4272391e-01, -2.8721094e-02],\n",
              "         [ 1.1378030e+00,  7.3257759e-02,  9.3252957e-01, ...,\n",
              "           1.1647841e+00,  1.1122813e+00,  7.8499305e-01]],\n",
              " \n",
              "        [[ 1.0110193e+00,  7.2776556e-01,  3.7369616e-02, ...,\n",
              "           2.8427488e-01,  1.0340234e+00,  7.7528954e-02],\n",
              "         [ 3.8143896e-02,  7.4572515e-01,  6.4986783e-01, ...,\n",
              "          -5.0830132e-01,  6.7232746e-01,  5.4862827e-01],\n",
              "         [-2.0381579e-01,  6.1630452e-01,  3.3861899e-01, ...,\n",
              "           1.0137758e+00,  1.4219193e+00,  8.4426379e-01],\n",
              "         ...,\n",
              "         [-7.0343339e-01,  8.4725636e-01,  1.2373624e+00, ...,\n",
              "           6.8090165e-01,  2.0565048e-01,  9.3643439e-01],\n",
              "         [ 5.1052856e-01, -3.8161036e-01,  8.1145519e-01, ...,\n",
              "           5.0341773e-01, -3.1351987e-01,  7.0330960e-01],\n",
              "         [ 3.4019032e-01, -2.5382656e-01,  7.4197453e-01, ...,\n",
              "           9.2824364e-01,  1.2344117e+00,  6.3531929e-01]],\n",
              " \n",
              "        ...,\n",
              " \n",
              "        [[ 8.7979853e-01,  8.6493924e-02,  1.4305878e-01, ...,\n",
              "           4.7745591e-01,  6.1835182e-01,  5.4678470e-01],\n",
              "         [ 4.4055447e-01,  8.8251048e-01,  1.5977747e+00, ...,\n",
              "           3.6897519e-01,  1.1683788e+00,  4.0810472e-01],\n",
              "         [ 3.6377060e-01,  5.6480581e-01,  2.9527298e-01, ...,\n",
              "           1.2160635e+00,  8.3822310e-01,  6.4732969e-01],\n",
              "         ...,\n",
              "         [-5.4858828e-01,  4.2580074e-01,  1.1934551e+00, ...,\n",
              "           1.1969318e+00, -2.7213961e-01,  7.0937550e-01],\n",
              "         [ 1.0911686e+00, -2.6754659e-01,  9.6846622e-01, ...,\n",
              "           7.1519303e-01, -2.7074897e-01,  6.7810607e-01],\n",
              "         [ 6.1999589e-02,  3.3686736e-01,  1.4162887e+00, ...,\n",
              "           6.0012412e-01,  1.2597257e+00, -2.9474497e-05]],\n",
              " \n",
              "        [[ 7.3187512e-01,  5.9483629e-01, -3.6395490e-03, ...,\n",
              "           4.3086144e-01,  4.6245077e-01,  2.2270977e-01],\n",
              "         [-4.0247133e-01,  9.4593883e-01,  3.1597918e-01, ...,\n",
              "          -4.1509408e-01,  8.9173895e-01,  5.9646720e-01],\n",
              "         [-1.6887578e-01,  6.1715972e-01,  5.5072379e-01, ...,\n",
              "           9.5895553e-01,  3.8463718e-01,  1.1409142e+00],\n",
              "         ...,\n",
              "         [ 2.1369758e-01,  8.8464463e-01,  7.9817826e-01, ...,\n",
              "           5.9772205e-01,  3.1993496e-01,  9.5375717e-01],\n",
              "         [ 1.0573826e+00, -1.4277640e-01,  3.2952547e-01, ...,\n",
              "           3.2984203e-01,  3.1896287e-01,  6.6774803e-01],\n",
              "         [ 1.0471693e+00, -1.2631464e-01,  6.9732016e-01, ...,\n",
              "           1.2330751e+00,  1.1453698e+00,  1.2092735e+00]],\n",
              " \n",
              "        [[ 1.1946851e+00,  3.4639788e-01,  3.3276856e-01, ...,\n",
              "           3.9735526e-01,  1.1562221e+00, -7.3819786e-02],\n",
              "         [ 8.0192590e-01,  9.1177636e-01,  9.4095117e-01, ...,\n",
              "           1.3615566e-01,  6.7590946e-01,  3.9575434e-01],\n",
              "         [-8.8948131e-02,  3.3211082e-01,  6.8177128e-01, ...,\n",
              "           7.7052176e-01,  7.4456000e-01,  5.9549928e-01],\n",
              "         ...,\n",
              "         [ 5.2381212e-01,  8.4846985e-01,  6.1340958e-01, ...,\n",
              "          -1.3738357e-01, -1.2729478e-01,  2.6425481e-01],\n",
              "         [ 7.0121545e-01, -2.4179788e-01,  9.1587949e-01, ...,\n",
              "           5.5503958e-01,  3.9412853e-01,  1.5479311e+00],\n",
              "         [ 6.3480294e-01, -1.6858691e-01,  3.8219434e-01, ...,\n",
              "           1.0057788e+00,  4.2007321e-01,  2.1971737e-01]]], dtype=float32))"
            ]
          },
          "metadata": {},
          "execution_count": 19
        }
      ]
    },
    {
      "cell_type": "code",
      "source": [
        "predictions[0].shape"
      ],
      "metadata": {
        "colab": {
          "base_uri": "https://localhost:8080/"
        },
        "id": "uOXH_1iYVmZY",
        "outputId": "7cc90628-cf93-48a3-be7e-f7d8163f075e"
      },
      "execution_count": null,
      "outputs": [
        {
          "output_type": "execute_result",
          "data": {
            "text/plain": [
              "(640, 10)"
            ]
          },
          "metadata": {},
          "execution_count": 21
        }
      ]
    },
    {
      "cell_type": "code",
      "source": [
        "predictions[1].shape"
      ],
      "metadata": {
        "colab": {
          "base_uri": "https://localhost:8080/"
        },
        "id": "c3YdwXwXVxaI",
        "outputId": "7f16daf0-f745-4db1-fdd7-31eae31968a2"
      },
      "execution_count": null,
      "outputs": [
        {
          "output_type": "execute_result",
          "data": {
            "text/plain": [
              "(640, 20, 30)"
            ]
          },
          "metadata": {},
          "execution_count": 24
        }
      ]
    },
    {
      "cell_type": "code",
      "source": [
        ""
      ],
      "metadata": {
        "id": "kLhaGvfAV0xX"
      },
      "execution_count": null,
      "outputs": []
    }
  ]
}