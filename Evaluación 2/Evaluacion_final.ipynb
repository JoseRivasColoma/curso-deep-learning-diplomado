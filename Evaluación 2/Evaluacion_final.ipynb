{
  "cells": [
    {
      "cell_type": "markdown",
      "metadata": {
        "id": "ZwX9sHnqWkcS"
      },
      "source": [
        "# Criterio de evaluación"
      ]
    },
    {
      "cell_type": "markdown",
      "metadata": {
        "id": "04rfFY75VYkb"
      },
      "source": [
        "Utilizando una de las arquitecturas enseñadas durante el curso, el alumno genera una mejora con respecto a sus modelos anteriores,\n",
        "creando una rutina que permita aprovechar los modelos más avanzados.\n",
        "Además, genera un informe indicando lo siguiente:\n",
        "\n",
        "- Descripción de la problemática.\n",
        "- Motivos detrás de la selección de bibliotecas, modelo y el trasfondo matemático del modelo.\n",
        "- Métricas de evaluación utilizadas.\n",
        "- Justificación de librerías y características que los llevaron a utilizar dicha librería.\n",
        "\n",
        "Junto con el informe debe entregar código utilizado para generar su solución.\n",
        "\n",
        "\n",
        "Los datos a utilizar corresponden a CIFAR10 los cuales ya utilizó en la evaluación final de la unidad 1.\n",
        "\n",
        "En específico la evaluación del Modelo contempla:\n",
        "\n",
        "- Técnicas utilizadas (tanto de modelamiento como procesamiento de datos)\n",
        "- Investigación realizada\n",
        "- Explica y entiende lo que está utilizando (en alto nivel, no en profundidad)\n",
        "- Compara lo que está utilizando con otras técnicas.\n",
        "- Métrica: 80% para tener un 4.0, subiendo 0.3 puntos por cada 1% (i.e 90%+ para el 7.0 en esta parte) \n",
        "\n",
        "Observación: *Esto puede ser un poco menos estricto dependiendo de los resultados al revisar todas las evaluaciones*\n",
        "- Explica la métrica utilizada"
      ]
    },
    {
      "cell_type": "code",
      "execution_count": 1,
      "metadata": {
        "id": "5V9hk7lUWiow"
      },
      "outputs": [],
      "source": [
        "import tensorflow as tf\n",
        "\n",
        "from tensorflow import keras\n",
        "\n",
        "import seaborn as sns\n",
        "\n",
        "from tensorflow.keras import datasets\n",
        "import matplotlib.pyplot as plt"
      ]
    },
    {
      "cell_type": "code",
      "execution_count": 12,
      "metadata": {},
      "outputs": [],
      "source": [
        "from transformers import ViTFeatureExtractor, ViTForImageClassification\n",
        "from PIL import Image\n",
        "import requests"
      ]
    },
    {
      "cell_type": "code",
      "execution_count": 2,
      "metadata": {},
      "outputs": [],
      "source": [
        "(train_images, train_labels), (test_images, test_labels) = datasets.cifar10.load_data()"
      ]
    },
    {
      "cell_type": "code",
      "execution_count": null,
      "metadata": {},
      "outputs": [],
      "source": []
    }
  ],
  "metadata": {
    "colab": {
      "name": "Evaluacion_final.ipynb",
      "provenance": []
    },
    "kernelspec": {
      "display_name": "Python 3",
      "name": "python3"
    },
    "language_info": {
      "codemirror_mode": {
        "name": "ipython",
        "version": 3
      },
      "file_extension": ".py",
      "mimetype": "text/x-python",
      "name": "python",
      "nbconvert_exporter": "python",
      "pygments_lexer": "ipython3",
      "version": "3.9.7"
    }
  },
  "nbformat": 4,
  "nbformat_minor": 0
}
