{
 "cells": [
  {
   "cell_type": "code",
   "execution_count": 4,
   "metadata": {},
   "outputs": [],
   "source": [
    "import numpy as np\n",
    "import tensorflow as tf\n",
    "from tensorflow import keras\n",
    "from tensorflow.keras import layers\n",
    "import pandas as pd"
   ]
  },
  {
   "cell_type": "code",
   "execution_count": 6,
   "metadata": {},
   "outputs": [
    {
     "name": "stdout",
     "output_type": "stream",
     "text": [
      "Model: \"sequential_2\"\n",
      "_________________________________________________________________\n",
      " Layer (type)                Output Shape              Param #   \n",
      "=================================================================\n",
      " embedding (Embedding)       (None, None, 64)          64000     \n",
      "                                                                 \n",
      " lstm (LSTM)                 (None, 128)               98816     \n",
      "                                                                 \n",
      " dense (Dense)               (None, 10)                1290      \n",
      "                                                                 \n",
      "=================================================================\n",
      "Total params: 164,106\n",
      "Trainable params: 164,106\n",
      "Non-trainable params: 0\n",
      "_________________________________________________________________\n"
     ]
    }
   ],
   "source": [
    "model = keras.Sequential()\n",
    "\n",
    "model.add(layers.Embedding(input_dim=1000, output_dim=64))\n",
    "\n",
    "model.add(layers.LSTM(128))\n",
    "\n",
    "model.add(layers.Dense(10))\n",
    "\n",
    "model.summary()"
   ]
  },
  {
   "cell_type": "code",
   "execution_count": 7,
   "metadata": {},
   "outputs": [
    {
     "name": "stdout",
     "output_type": "stream",
     "text": [
      "Model: \"model\"\n",
      "__________________________________________________________________________________________________\n",
      " Layer (type)                   Output Shape         Param #     Connected to                     \n",
      "==================================================================================================\n",
      " input_1 (InputLayer)           [(None, None)]       0           []                               \n",
      "                                                                                                  \n",
      " input_2 (InputLayer)           [(None, None)]       0           []                               \n",
      "                                                                                                  \n",
      " embedding_1 (Embedding)        (None, None, 64)     64000       ['input_1[0][0]']                \n",
      "                                                                                                  \n",
      " embedding_2 (Embedding)        (None, None, 64)     128000      ['input_2[0][0]']                \n",
      "                                                                                                  \n",
      " encoder (LSTM)                 [(None, 64),         33024       ['embedding_1[0][0]']            \n",
      "                                 (None, 64),                                                      \n",
      "                                 (None, 64)]                                                      \n",
      "                                                                                                  \n",
      " decoder (LSTM)                 (None, 64)           33024       ['embedding_2[0][0]',            \n",
      "                                                                  'encoder[0][1]',                \n",
      "                                                                  'encoder[0][2]']                \n",
      "                                                                                                  \n",
      " dense_1 (Dense)                (None, 10)           650         ['decoder[0][0]']                \n",
      "                                                                                                  \n",
      "==================================================================================================\n",
      "Total params: 258,698\n",
      "Trainable params: 258,698\n",
      "Non-trainable params: 0\n",
      "__________________________________________________________________________________________________\n"
     ]
    }
   ],
   "source": [
    "encoder_vocab = 1000\n",
    "decoder_vocab = 2000\n",
    "\n",
    "encoder_input = layers.Input(shape=(None,))\n",
    "encoder_embedded = layers.Embedding(input_dim=encoder_vocab, output_dim=64)(\n",
    "    encoder_input\n",
    ")\n",
    "\n",
    "# Return states in addition to output\n",
    "output, state_h, state_c = layers.LSTM(64, return_state=True, name=\"encoder\")(\n",
    "    encoder_embedded\n",
    ")\n",
    "encoder_state = [state_h, state_c]\n",
    "\n",
    "decoder_input = layers.Input(shape=(None,))\n",
    "decoder_embedded = layers.Embedding(input_dim=decoder_vocab, output_dim=64)(\n",
    "    decoder_input\n",
    ")\n",
    "\n",
    "# Pass the 2 states to a new LSTM layer, as initial state\n",
    "decoder_output = layers.LSTM(64, name=\"decoder\")(\n",
    "    decoder_embedded, initial_state=encoder_state\n",
    ")\n",
    "output = layers.Dense(10)(decoder_output)\n",
    "\n",
    "model = keras.Model([encoder_input, decoder_input], output)\n",
    "model.summary()"
   ]
  },
  {
   "cell_type": "code",
   "execution_count": 8,
   "metadata": {},
   "outputs": [],
   "source": [
    "paragraph1 = np.random.random((20, 10, 50)).astype(np.float32)\n",
    "paragraph2 = np.random.random((20, 10, 50)).astype(np.float32)\n",
    "paragraph3 = np.random.random((20, 10, 50)).astype(np.float32)\n",
    "\n",
    "lstm_layer = layers.LSTM(64, stateful=True)\n",
    "output = lstm_layer(paragraph1)\n",
    "output = lstm_layer(paragraph2)\n",
    "output = lstm_layer(paragraph3)\n",
    "\n",
    "# reset_states() will reset the cached state to the original initial_state.\n",
    "# If no initial_state was provided, zero-states will be used by default.\n",
    "lstm_layer.reset_states()"
   ]
  },
  {
   "cell_type": "code",
   "execution_count": 9,
   "metadata": {},
   "outputs": [],
   "source": [
    "paragraph1 = np.random.random((20, 10, 50)).astype(np.float32)\n",
    "paragraph2 = np.random.random((20, 10, 50)).astype(np.float32)\n",
    "paragraph3 = np.random.random((20, 10, 50)).astype(np.float32)\n",
    "\n",
    "lstm_layer = layers.LSTM(64, stateful=True)\n",
    "output = lstm_layer(paragraph1)\n",
    "output = lstm_layer(paragraph2)\n",
    "\n",
    "existing_state = lstm_layer.states\n",
    "\n",
    "new_lstm_layer = layers.LSTM(64)\n",
    "new_output = new_lstm_layer(paragraph3, initial_state=existing_state)"
   ]
  },
  {
   "cell_type": "code",
   "execution_count": 10,
   "metadata": {},
   "outputs": [
    {
     "name": "stdout",
     "output_type": "stream",
     "text": [
      "Model: \"sequential_3\"\n",
      "_________________________________________________________________\n",
      " Layer (type)                Output Shape              Param #   \n",
      "=================================================================\n",
      " bidirectional (Bidirectiona  (None, 5, 128)           38400     \n",
      " l)                                                              \n",
      "                                                                 \n",
      " bidirectional_1 (Bidirectio  (None, 64)               41216     \n",
      " nal)                                                            \n",
      "                                                                 \n",
      " dense_2 (Dense)             (None, 10)                650       \n",
      "                                                                 \n",
      "=================================================================\n",
      "Total params: 80,266\n",
      "Trainable params: 80,266\n",
      "Non-trainable params: 0\n",
      "_________________________________________________________________\n"
     ]
    }
   ],
   "source": [
    "model = keras.Sequential()\n",
    "\n",
    "model.add(\n",
    "    layers.Bidirectional(layers.LSTM(64, return_sequences=True), input_shape=(5, 10))\n",
    ")\n",
    "model.add(layers.Bidirectional(layers.LSTM(32)))\n",
    "model.add(layers.Dense(10))\n",
    "\n",
    "model.summary()"
   ]
  },
  {
   "cell_type": "code",
   "execution_count": 11,
   "metadata": {},
   "outputs": [],
   "source": [
    "batch_size = 64\n",
    "# Each MNIST image batch is a tensor of shape (batch_size, 28, 28).\n",
    "# Each input sequence will be of size (28, 28) (height is treated like time).\n",
    "input_dim = 28\n",
    "\n",
    "units = 64\n",
    "output_size = 10  # labels are from 0 to 9\n",
    "\n",
    "# Build the RNN model\n",
    "def build_model(allow_cudnn_kernel=True):\n",
    "    # CuDNN is only available at the layer level, and not at the cell level.\n",
    "    # This means `LSTM(units)` will use the CuDNN kernel,\n",
    "    # while RNN(LSTMCell(units)) will run on non-CuDNN kernel.\n",
    "    if allow_cudnn_kernel:\n",
    "        # The LSTM layer with default options uses CuDNN.\n",
    "        lstm_layer = keras.layers.LSTM(units, input_shape=(None, input_dim))\n",
    "    else:\n",
    "        # Wrapping a LSTMCell in a RNN layer will not use CuDNN.\n",
    "        lstm_layer = keras.layers.RNN(\n",
    "            keras.layers.LSTMCell(units), input_shape=(None, input_dim)\n",
    "        )\n",
    "    model = keras.models.Sequential(\n",
    "        [\n",
    "            lstm_layer,\n",
    "            keras.layers.BatchNormalization(),\n",
    "            keras.layers.Dense(output_size),\n",
    "        ]\n",
    "    )\n",
    "    return model"
   ]
  },
  {
   "cell_type": "code",
   "execution_count": 12,
   "metadata": {},
   "outputs": [
    {
     "name": "stdout",
     "output_type": "stream",
     "text": [
      "Downloading data from https://storage.googleapis.com/tensorflow/tf-keras-datasets/mnist.npz\n",
      "11493376/11490434 [==============================] - 0s 0us/step\n",
      "11501568/11490434 [==============================] - 0s 0us/step\n"
     ]
    }
   ],
   "source": [
    "mnist = keras.datasets.mnist\n",
    "\n",
    "(x_train, y_train), (x_test, y_test) = mnist.load_data()\n",
    "x_train, x_test = x_train / 255.0, x_test / 255.0\n",
    "sample, sample_label = x_train[0], y_train[0]"
   ]
  },
  {
   "cell_type": "code",
   "execution_count": 13,
   "metadata": {},
   "outputs": [
    {
     "name": "stdout",
     "output_type": "stream",
     "text": [
      "938/938 [==============================] - 21s 20ms/step - loss: 0.9704 - accuracy: 0.6928 - val_loss: 0.5044 - val_accuracy: 0.8457\n"
     ]
    },
    {
     "data": {
      "text/plain": [
       "<keras.callbacks.History at 0x23405e808e0>"
      ]
     },
     "execution_count": 13,
     "metadata": {},
     "output_type": "execute_result"
    }
   ],
   "source": [
    "model = build_model(allow_cudnn_kernel=True)\n",
    "\n",
    "model.compile(\n",
    "    loss=keras.losses.SparseCategoricalCrossentropy(from_logits=True),\n",
    "    optimizer=\"sgd\",\n",
    "    metrics=[\"accuracy\"],\n",
    ")\n",
    "\n",
    "\n",
    "model.fit(\n",
    "    x_train, y_train, validation_data=(x_test, y_test), batch_size=batch_size, epochs=1\n",
    ")"
   ]
  },
  {
   "cell_type": "code",
   "execution_count": 14,
   "metadata": {},
   "outputs": [
    {
     "name": "stdout",
     "output_type": "stream",
     "text": [
      "938/938 [==============================] - 27s 26ms/step - loss: 0.4011 - accuracy: 0.8765 - val_loss: 0.2890 - val_accuracy: 0.9106\n"
     ]
    },
    {
     "data": {
      "text/plain": [
       "<keras.callbacks.History at 0x2340a4ede20>"
      ]
     },
     "execution_count": 14,
     "metadata": {},
     "output_type": "execute_result"
    }
   ],
   "source": [
    "noncudnn_model = build_model(allow_cudnn_kernel=False)\n",
    "noncudnn_model.set_weights(model.get_weights())\n",
    "noncudnn_model.compile(\n",
    "    loss=keras.losses.SparseCategoricalCrossentropy(from_logits=True),\n",
    "    optimizer=\"sgd\",\n",
    "    metrics=[\"accuracy\"],\n",
    ")\n",
    "noncudnn_model.fit(\n",
    "    x_train, y_train, validation_data=(x_test, y_test), batch_size=batch_size, epochs=1\n",
    ")"
   ]
  },
  {
   "cell_type": "code",
   "execution_count": 15,
   "metadata": {},
   "outputs": [
    {
     "name": "stdout",
     "output_type": "stream",
     "text": [
      "Predicted result is: [3], target result is: 5\n"
     ]
    },
    {
     "data": {
      "image/png": "[encoded data removed]",
      "text/plain": [
       "<Figure size 432x288 with 1 Axes>"
      ]
     },
     "metadata": {
      "needs_background": "light"
     },
     "output_type": "display_data"
    }
   ],
   "source": [
    "import matplotlib.pyplot as plt\n",
    "\n",
    "with tf.device(\"CPU:0\"):\n",
    "    cpu_model = build_model(allow_cudnn_kernel=True)\n",
    "    cpu_model.set_weights(model.get_weights())\n",
    "    result = tf.argmax(cpu_model.predict_on_batch(tf.expand_dims(sample, 0)), axis=1)\n",
    "    print(\n",
    "        \"Predicted result is: %s, target result is: %s\" % (result.numpy(), sample_label)\n",
    "    )\n",
    "    plt.imshow(sample, cmap=plt.get_cmap(\"gray\"))"
   ]
  },
  {
   "cell_type": "code",
   "execution_count": 16,
   "metadata": {},
   "outputs": [],
   "source": [
    "class NestedCell(keras.layers.Layer):\n",
    "    def __init__(self, unit_1, unit_2, unit_3, **kwargs):\n",
    "        self.unit_1 = unit_1\n",
    "        self.unit_2 = unit_2\n",
    "        self.unit_3 = unit_3\n",
    "        self.state_size = [tf.TensorShape([unit_1]), tf.TensorShape([unit_2, unit_3])]\n",
    "        self.output_size = [tf.TensorShape([unit_1]), tf.TensorShape([unit_2, unit_3])]\n",
    "        super(NestedCell, self).__init__(**kwargs)\n",
    "\n",
    "    def build(self, input_shapes):\n",
    "        # expect input_shape to contain 2 items, [(batch, i1), (batch, i2, i3)]\n",
    "        i1 = input_shapes[0][1]\n",
    "        i2 = input_shapes[1][1]\n",
    "        i3 = input_shapes[1][2]\n",
    "\n",
    "        self.kernel_1 = self.add_weight(\n",
    "            shape=(i1, self.unit_1), initializer=\"uniform\", name=\"kernel_1\"\n",
    "        )\n",
    "        self.kernel_2_3 = self.add_weight(\n",
    "            shape=(i2, i3, self.unit_2, self.unit_3),\n",
    "            initializer=\"uniform\",\n",
    "            name=\"kernel_2_3\",\n",
    "        )\n",
    "\n",
    "    def call(self, inputs, states):\n",
    "        # inputs should be in [(batch, input_1), (batch, input_2, input_3)]\n",
    "        # state should be in shape [(batch, unit_1), (batch, unit_2, unit_3)]\n",
    "        input_1, input_2 = tf.nest.flatten(inputs)\n",
    "        s1, s2 = states\n",
    "\n",
    "        output_1 = tf.matmul(input_1, self.kernel_1)\n",
    "        output_2_3 = tf.einsum(\"bij,ijkl->bkl\", input_2, self.kernel_2_3)\n",
    "        state_1 = s1 + output_1\n",
    "        state_2_3 = s2 + output_2_3\n",
    "\n",
    "        output = (output_1, output_2_3)\n",
    "        new_states = (state_1, state_2_3)\n",
    "\n",
    "        return output, new_states\n",
    "\n",
    "    def get_config(self):\n",
    "        return {\"unit_1\": self.unit_1, \"unit_2\": unit_2, \"unit_3\": self.unit_3}"
   ]
  },
  {
   "cell_type": "code",
   "execution_count": 18,
   "metadata": {},
   "outputs": [],
   "source": [
    "unit_1 = 10\n",
    "unit_2 = 20\n",
    "unit_3 = 30\n",
    "\n",
    "i1 = 32\n",
    "i2 = 64\n",
    "i3 = 32\n",
    "batch_size = 64\n",
    "num_batches = 10\n",
    "timestep = 50\n",
    "\n",
    "cell = NestedCell(unit_1, unit_2, unit_3)\n",
    "rnn = keras.layers.RNN(cell)\n",
    "\n",
    "input_1 = keras.Input((None, i1))\n",
    "input_2 = keras.Input((None, i2, i3))\n",
    "\n",
    "outputs = rnn((input_1, input_2))\n",
    "\n",
    "model = keras.models.Model([input_1, input_2], outputs)\n",
    "\n",
    "model.compile(optimizer=\"adam\", loss=\"mse\", metrics=[\"accuracy\"])"
   ]
  },
  {
   "cell_type": "code",
   "execution_count": 19,
   "metadata": {},
   "outputs": [
    {
     "name": "stdout",
     "output_type": "stream",
     "text": [
      "10/10 [==============================] - 7s 600ms/step - loss: 0.7317 - rnn_1_loss: 0.2692 - rnn_1_1_loss: 0.4625 - rnn_1_accuracy: 0.0953 - rnn_1_1_accuracy: 0.0332\n"
     ]
    },
    {
     "data": {
      "text/plain": [
       "<keras.callbacks.History at 0x234266bca60>"
      ]
     },
     "execution_count": 19,
     "metadata": {},
     "output_type": "execute_result"
    }
   ],
   "source": [
    "input_1_data = np.random.random((batch_size * num_batches, timestep, i1))\n",
    "input_2_data = np.random.random((batch_size * num_batches, timestep, i2, i3))\n",
    "target_1_data = np.random.random((batch_size * num_batches, unit_1))\n",
    "target_2_data = np.random.random((batch_size * num_batches, unit_2, unit_3))\n",
    "input_data = [input_1_data, input_2_data]\n",
    "target_data = [target_1_data, target_2_data]\n",
    "\n",
    "model.fit(input_data, target_data, batch_size=batch_size)"
   ]
  },
  {
   "cell_type": "code",
   "execution_count": 20,
   "metadata": {},
   "outputs": [
    {
     "data": {
      "text/plain": [
       "(array([[ 0.21084188,  0.12587601,  0.08722479, ...,  0.22454785,\n",
       "          0.10906871,  0.21380924],\n",
       "        [ 0.18696682,  0.09254904,  0.03089398, ...,  0.22279887,\n",
       "          0.11827845,  0.27061108],\n",
       "        [ 0.15781024,  0.17837502,  0.06011021, ...,  0.10376233,\n",
       "          0.1858664 ,  0.25160837],\n",
       "        ...,\n",
       "        [ 0.18373019,  0.176581  , -0.0009833 , ...,  0.14439191,\n",
       "          0.15481383,  0.22214468],\n",
       "        [ 0.1614412 ,  0.17835262, -0.06647966, ...,  0.11742339,\n",
       "          0.1433913 ,  0.24871047],\n",
       "        [ 0.06454457,  0.13534147,  0.02646078, ...,  0.10253997,\n",
       "          0.1358319 ,  0.19763425]], dtype=float32),\n",
       " array([[[-0.49752268,  0.59735537,  0.5081197 , ...,  0.6508237 ,\n",
       "           0.41350257,  0.80416787],\n",
       "         [ 0.05798096,  0.17699361,  0.713954  , ...,  1.2122802 ,\n",
       "           0.82767826, -0.259768  ],\n",
       "         [ 1.6638861 ,  0.9589802 ,  0.51312304, ...,  0.5616276 ,\n",
       "           1.2587163 ,  0.47167036],\n",
       "         ...,\n",
       "         [ 0.28956932, -0.13496849, -0.22724918, ..., -0.32708782,\n",
       "          -0.2104637 ,  0.96237236],\n",
       "         [ 1.1115049 ,  0.40177512,  1.047513  , ...,  0.90197617,\n",
       "           0.9571603 , -0.2968408 ],\n",
       "         [ 0.8393242 , -0.10340887,  0.44628   , ...,  0.19368339,\n",
       "          -0.17914264,  1.0072798 ]],\n",
       " \n",
       "        [[-0.0245451 ,  0.62009895,  1.1604073 , ..., -0.6381906 ,\n",
       "           1.0244462 ,  1.3964095 ],\n",
       "         [-0.03295392,  0.74134916,  0.5713079 , ...,  0.971313  ,\n",
       "           0.09236265, -0.29397434],\n",
       "         [ 0.46858343,  1.143249  ,  0.45904875, ...,  0.47408292,\n",
       "           0.9236342 ,  0.40950057],\n",
       "         ...,\n",
       "         [ 1.5051842 , -0.69584286, -0.0535165 , ..., -0.23637494,\n",
       "           0.5055624 ,  0.4237268 ],\n",
       "         [ 0.88833266,  0.67128617,  0.5004048 , ...,  0.70864344,\n",
       "           0.51347584, -0.32747957],\n",
       "         [ 0.4777764 ,  0.60862243, -0.10168421, ...,  0.13839409,\n",
       "          -0.30058524,  0.04612457]],\n",
       " \n",
       "        [[ 0.24892485,  0.51810014,  0.35446525, ..., -0.1993757 ,\n",
       "           0.15491773,  0.5855616 ],\n",
       "         [-0.30095112,  0.3906529 ,  0.9327066 , ...,  0.79059136,\n",
       "           0.3049241 ,  0.7141642 ],\n",
       "         [ 0.6815269 ,  0.5254617 , -0.1922304 , ...,  1.1681376 ,\n",
       "           0.8396299 ,  0.2050251 ],\n",
       "         ...,\n",
       "         [ 0.09700781, -0.39957348, -0.34621325, ..., -0.28190634,\n",
       "           0.7826414 ,  1.424341  ],\n",
       "         [ 0.6989084 ,  0.653501  ,  0.7518482 , ...,  0.54406303,\n",
       "           0.7124834 ,  0.14596215],\n",
       "         [ 0.9547694 ,  0.40246376,  0.41157243, ..., -0.07703346,\n",
       "          -0.24835992,  0.8789307 ]],\n",
       " \n",
       "        ...,\n",
       " \n",
       "        [[-0.3434285 ,  0.6583146 ,  0.03187435, ..., -0.26430848,\n",
       "           0.59326714,  0.816279  ],\n",
       "         [-0.1421844 ,  1.4898738 ,  1.2755866 , ...,  0.56842566,\n",
       "           0.07703564,  0.08506445],\n",
       "         [ 0.68201923,  0.79078996,  0.34933883, ...,  0.11441529,\n",
       "           0.82463366, -0.04385795],\n",
       "         ...,\n",
       "         [-0.20454375,  0.16952704, -0.19953436, ...,  0.20590955,\n",
       "           0.619002  ,  1.2341472 ],\n",
       "         [ 0.55302995,  0.6121814 ,  0.86478925, ...,  0.61933273,\n",
       "           1.3059038 , -0.24971293],\n",
       "         [ 0.5361724 ,  0.22817956,  0.36063215, ..., -0.005375  ,\n",
       "           0.03294997,  1.0240694 ]],\n",
       " \n",
       "        [[-0.17905378,  1.1593021 ,  1.2281718 , ..., -0.00528823,\n",
       "           1.1568087 ,  1.0416002 ],\n",
       "         [-0.61467075,  1.0552785 ,  0.69498205, ...,  0.8076914 ,\n",
       "           0.31157863, -0.6636362 ],\n",
       "         [ 0.69294715,  0.6633182 ,  0.13575318, ...,  0.8432338 ,\n",
       "           0.8177805 , -0.4626511 ],\n",
       "         ...,\n",
       "         [ 0.9713752 ,  0.49678546,  0.05509707, ..., -0.75307167,\n",
       "           1.0789205 ,  0.51523566],\n",
       "         [ 0.7047963 ,  1.3745761 ,  0.12188146, ...,  1.065936  ,\n",
       "           0.7681512 ,  0.42050493],\n",
       "         [ 0.9069649 ,  0.21857922,  0.31409258, ...,  0.01136681,\n",
       "           0.5671914 ,  0.50057656]],\n",
       " \n",
       "        [[-0.01771483,  1.0300598 ,  0.53822184, ..., -0.44614226,\n",
       "           1.3073974 ,  0.58601296],\n",
       "         [ 0.14431389,  0.9035034 ,  0.31898743, ...,  1.1944185 ,\n",
       "           0.6869435 , -0.368452  ],\n",
       "         [ 1.1685364 ,  0.7025846 , -0.05538794, ...,  0.68612754,\n",
       "           1.0873387 ,  0.15933752],\n",
       "         ...,\n",
       "         [ 1.0858388 ,  0.37450787, -0.5207719 , ..., -0.31251132,\n",
       "           0.6605059 , -0.12463649],\n",
       "         [ 1.0032319 , -0.04001431,  0.35095498, ...,  0.8104812 ,\n",
       "           0.70922834, -0.08803715],\n",
       "         [ 0.2891103 ,  0.18183711,  0.23766033, ...,  0.23593229,\n",
       "           0.29949787,  0.3290572 ]]], dtype=float32))"
      ]
     },
     "execution_count": 20,
     "metadata": {},
     "output_type": "execute_result"
    }
   ],
   "source": [
    "predictions = model.predict(input_data)\n",
    "predictions"
   ]
  },
  {
   "cell_type": "code",
   "execution_count": 21,
   "metadata": {},
   "outputs": [
    {
     "data": {
      "text/plain": [
       "(640, 10)"
      ]
     },
     "execution_count": 21,
     "metadata": {},
     "output_type": "execute_result"
    }
   ],
   "source": [
    "predictions[0].shape"
   ]
  },
  {
   "cell_type": "code",
   "execution_count": 22,
   "metadata": {},
   "outputs": [
    {
     "data": {
      "text/plain": [
       "(640, 20, 30)"
      ]
     },
     "execution_count": 22,
     "metadata": {},
     "output_type": "execute_result"
    }
   ],
   "source": [
    "predictions[1].shape"
   ]
  },
  {
   "cell_type": "code",
   "execution_count": 23,
   "metadata": {},
   "outputs": [
    {
     "data": {
      "text/plain": [
       "array([[[-0.49752268,  0.59735537,  0.5081197 , ...,  0.6508237 ,\n",
       "          0.41350257,  0.80416787],\n",
       "        [ 0.05798096,  0.17699361,  0.713954  , ...,  1.2122802 ,\n",
       "          0.82767826, -0.259768  ],\n",
       "        [ 1.6638861 ,  0.9589802 ,  0.51312304, ...,  0.5616276 ,\n",
       "          1.2587163 ,  0.47167036],\n",
       "        ...,\n",
       "        [ 0.28956932, -0.13496849, -0.22724918, ..., -0.32708782,\n",
       "         -0.2104637 ,  0.96237236],\n",
       "        [ 1.1115049 ,  0.40177512,  1.047513  , ...,  0.90197617,\n",
       "          0.9571603 , -0.2968408 ],\n",
       "        [ 0.8393242 , -0.10340887,  0.44628   , ...,  0.19368339,\n",
       "         -0.17914264,  1.0072798 ]],\n",
       "\n",
       "       [[-0.0245451 ,  0.62009895,  1.1604073 , ..., -0.6381906 ,\n",
       "          1.0244462 ,  1.3964095 ],\n",
       "        [-0.03295392,  0.74134916,  0.5713079 , ...,  0.971313  ,\n",
       "          0.09236265, -0.29397434],\n",
       "        [ 0.46858343,  1.143249  ,  0.45904875, ...,  0.47408292,\n",
       "          0.9236342 ,  0.40950057],\n",
       "        ...,\n",
       "        [ 1.5051842 , -0.69584286, -0.0535165 , ..., -0.23637494,\n",
       "          0.5055624 ,  0.4237268 ],\n",
       "        [ 0.88833266,  0.67128617,  0.5004048 , ...,  0.70864344,\n",
       "          0.51347584, -0.32747957],\n",
       "        [ 0.4777764 ,  0.60862243, -0.10168421, ...,  0.13839409,\n",
       "         -0.30058524,  0.04612457]],\n",
       "\n",
       "       [[ 0.24892485,  0.51810014,  0.35446525, ..., -0.1993757 ,\n",
       "          0.15491773,  0.5855616 ],\n",
       "        [-0.30095112,  0.3906529 ,  0.9327066 , ...,  0.79059136,\n",
       "          0.3049241 ,  0.7141642 ],\n",
       "        [ 0.6815269 ,  0.5254617 , -0.1922304 , ...,  1.1681376 ,\n",
       "          0.8396299 ,  0.2050251 ],\n",
       "        ...,\n",
       "        [ 0.09700781, -0.39957348, -0.34621325, ..., -0.28190634,\n",
       "          0.7826414 ,  1.424341  ],\n",
       "        [ 0.6989084 ,  0.653501  ,  0.7518482 , ...,  0.54406303,\n",
       "          0.7124834 ,  0.14596215],\n",
       "        [ 0.9547694 ,  0.40246376,  0.41157243, ..., -0.07703346,\n",
       "         -0.24835992,  0.8789307 ]],\n",
       "\n",
       "       ...,\n",
       "\n",
       "       [[-0.3434285 ,  0.6583146 ,  0.03187435, ..., -0.26430848,\n",
       "          0.59326714,  0.816279  ],\n",
       "        [-0.1421844 ,  1.4898738 ,  1.2755866 , ...,  0.56842566,\n",
       "          0.07703564,  0.08506445],\n",
       "        [ 0.68201923,  0.79078996,  0.34933883, ...,  0.11441529,\n",
       "          0.82463366, -0.04385795],\n",
       "        ...,\n",
       "        [-0.20454375,  0.16952704, -0.19953436, ...,  0.20590955,\n",
       "          0.619002  ,  1.2341472 ],\n",
       "        [ 0.55302995,  0.6121814 ,  0.86478925, ...,  0.61933273,\n",
       "          1.3059038 , -0.24971293],\n",
       "        [ 0.5361724 ,  0.22817956,  0.36063215, ..., -0.005375  ,\n",
       "          0.03294997,  1.0240694 ]],\n",
       "\n",
       "       [[-0.17905378,  1.1593021 ,  1.2281718 , ..., -0.00528823,\n",
       "          1.1568087 ,  1.0416002 ],\n",
       "        [-0.61467075,  1.0552785 ,  0.69498205, ...,  0.8076914 ,\n",
       "          0.31157863, -0.6636362 ],\n",
       "        [ 0.69294715,  0.6633182 ,  0.13575318, ...,  0.8432338 ,\n",
       "          0.8177805 , -0.4626511 ],\n",
       "        ...,\n",
       "        [ 0.9713752 ,  0.49678546,  0.05509707, ..., -0.75307167,\n",
       "          1.0789205 ,  0.51523566],\n",
       "        [ 0.7047963 ,  1.3745761 ,  0.12188146, ...,  1.065936  ,\n",
       "          0.7681512 ,  0.42050493],\n",
       "        [ 0.9069649 ,  0.21857922,  0.31409258, ...,  0.01136681,\n",
       "          0.5671914 ,  0.50057656]],\n",
       "\n",
       "       [[-0.01771483,  1.0300598 ,  0.53822184, ..., -0.44614226,\n",
       "          1.3073974 ,  0.58601296],\n",
       "        [ 0.14431389,  0.9035034 ,  0.31898743, ...,  1.1944185 ,\n",
       "          0.6869435 , -0.368452  ],\n",
       "        [ 1.1685364 ,  0.7025846 , -0.05538794, ...,  0.68612754,\n",
       "          1.0873387 ,  0.15933752],\n",
       "        ...,\n",
       "        [ 1.0858388 ,  0.37450787, -0.5207719 , ..., -0.31251132,\n",
       "          0.6605059 , -0.12463649],\n",
       "        [ 1.0032319 , -0.04001431,  0.35095498, ...,  0.8104812 ,\n",
       "          0.70922834, -0.08803715],\n",
       "        [ 0.2891103 ,  0.18183711,  0.23766033, ...,  0.23593229,\n",
       "          0.29949787,  0.3290572 ]]], dtype=float32)"
      ]
     },
     "execution_count": 23,
     "metadata": {},
     "output_type": "execute_result"
    }
   ],
   "source": [
    "predictions[1]"
   ]
  }
 ],
 "metadata": {
  "interpreter": {
   "hash": "b3ba2566441a7c06988d0923437866b63cedc61552a5af99d1f4fb67d367b25f"
  },
  "kernelspec": {
   "display_name": "Python 3.9.7 64-bit ('base': conda)",
   "language": "python",
   "name": "python3"
  },
  "language_info": {
   "codemirror_mode": {
    "name": "ipython",
    "version": 3
   },
   "file_extension": ".py",
   "mimetype": "text/x-python",
   "name": "python",
   "nbconvert_exporter": "python",
   "pygments_lexer": "ipython3",
   "version": "3.9.7"
  },
  "orig_nbformat": 4
 },
 "nbformat": 4,
 "nbformat_minor": 2
}
